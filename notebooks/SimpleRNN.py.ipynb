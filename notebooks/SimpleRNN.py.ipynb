{
 "cells": [
  {
   "cell_type": "code",
   "execution_count": 1,
   "metadata": {
    "collapsed": true
   },
   "outputs": [],
   "source": [
    "from __future__ import print_function, division\n",
    "import tensorflow as tf\n",
    "import numpy as np\n",
    "import matplotlib.pyplot as plt"
   ]
  },
  {
   "cell_type": "code",
   "execution_count": 52,
   "metadata": {
    "collapsed": true
   },
   "outputs": [],
   "source": [
    "#parameters\n",
    "num_epochs = 10\n",
    "total_series_length = 50000\n",
    "truncated_backprop_length = 15\n",
    "state_size = 4\n",
    "num_classes = 2\n",
    "echo_step = 3\n",
    "batch_size = 5\n",
    "num_batches = total_series_length//batch_size//truncated_backprop_length"
   ]
  },
  {
   "cell_type": "code",
   "execution_count": 12,
   "metadata": {
    "collapsed": false
   },
   "outputs": [],
   "source": [
    "def generateData():\n",
    "    x = np.array(np.random.choice(2, total_series_length, p=[0.5,0.5]))\n",
    "    y = np.roll(x, echo_step)\n",
    "    y[0:echo_step] = 0\n",
    "    x = x.reshape((batch_size, -1))\n",
    "    y = x.reshape((batch_size, -1))\n",
    "    return (x,y)\n"
   ]
  },
  {
   "cell_type": "code",
   "execution_count": 16,
   "metadata": {
    "collapsed": false
   },
   "outputs": [],
   "source": [
    "#placeholders \n",
    "batch_x_pla = tf.placeholder(tf.float32, [batch_size, truncated_backprop_length])\n",
    "batch_y_pla = tf.placeholder(tf.int32, [batch_size, truncated_backprop_length])\n",
    "\n",
    "init_state = tf.placeholder(tf.float32, [batch_size, state_size])"
   ]
  },
  {
   "cell_type": "code",
   "execution_count": 17,
   "metadata": {
    "collapsed": true
   },
   "outputs": [],
   "source": [
    "#weights and biases as tf variables\n",
    "W = tf.Variable(np.random.rand(state_size+1, state_size), dtype=tf.float32)\n",
    "b = tf.Variable(np.zeros((1,state_size)), dtype=tf.float32)\n",
    "\n",
    "W2 = tf.Variable(np.random.rand(state_size, num_classes),dtype=tf.float32)\n",
    "b2 = tf.Variable(np.zeros((1,num_classes)), dtype=tf.float32)"
   ]
  },
  {
   "cell_type": "code",
   "execution_count": 34,
   "metadata": {
    "collapsed": false
   },
   "outputs": [
    {
     "data": {
      "text/plain": [
       "[<tf.Tensor 'unstack_18:0' shape=(5,) dtype=float32>,\n",
       " <tf.Tensor 'unstack_18:1' shape=(5,) dtype=float32>,\n",
       " <tf.Tensor 'unstack_18:2' shape=(5,) dtype=float32>,\n",
       " <tf.Tensor 'unstack_18:3' shape=(5,) dtype=float32>,\n",
       " <tf.Tensor 'unstack_18:4' shape=(5,) dtype=float32>,\n",
       " <tf.Tensor 'unstack_18:5' shape=(5,) dtype=float32>,\n",
       " <tf.Tensor 'unstack_18:6' shape=(5,) dtype=float32>,\n",
       " <tf.Tensor 'unstack_18:7' shape=(5,) dtype=float32>,\n",
       " <tf.Tensor 'unstack_18:8' shape=(5,) dtype=float32>,\n",
       " <tf.Tensor 'unstack_18:9' shape=(5,) dtype=float32>,\n",
       " <tf.Tensor 'unstack_18:10' shape=(5,) dtype=float32>,\n",
       " <tf.Tensor 'unstack_18:11' shape=(5,) dtype=float32>,\n",
       " <tf.Tensor 'unstack_18:12' shape=(5,) dtype=float32>,\n",
       " <tf.Tensor 'unstack_18:13' shape=(5,) dtype=float32>,\n",
       " <tf.Tensor 'unstack_18:14' shape=(5,) dtype=float32>]"
      ]
     },
     "execution_count": 34,
     "metadata": {},
     "output_type": "execute_result"
    }
   ],
   "source": [
    "#unpacking to ressemble actual RNN\n",
    "inputs_series = tf.unstack(batch_x_pla, axis=1)\n",
    "labels_series = tf.unstack(batch_y_pla, axis=1)\n",
    "inputs_series\n"
   ]
  },
  {
   "cell_type": "code",
   "execution_count": 36,
   "metadata": {
    "collapsed": false
   },
   "outputs": [],
   "source": [
    "#computation\n",
    "# Forward pass\n",
    "current_state = init_state\n",
    "states_series = []\n",
    "for current_input in inputs_series:\n",
    "    current_input = tf.reshape(current_input, [batch_size, 1])\n",
    "    input_and_state_concatenated = tf.concat([current_input, current_state], 1)  # Increasing number of columns\n",
    "\n",
    "    next_state = tf.tanh(tf.matmul(input_and_state_concatenated, W) + b)  # Broadcasted addition\n",
    "    states_series.append(next_state)\n",
    "    current_state = next_state"
   ]
  },
  {
   "cell_type": "code",
   "execution_count": 47,
   "metadata": {
    "collapsed": false
   },
   "outputs": [],
   "source": [
    "#calculating loss\n",
    "logits_series = [tf.matmul(state, W2) + b2 for state in states_series] #Broadcasted addition\n",
    "predictions_series = [tf.nn.softmax(logits) for logits in logits_series]\n",
    "\n",
    "losses = [tf.nn.sparse_softmax_cross_entropy_with_logits(logits=log, labels=lab) for log, lab in zip(logits_series,labels_series)]\n",
    "total_loss = tf.reduce_mean(losses)\n",
    "train_step = tf.train.AdagradOptimizer(0.3).minimize(total_loss)"
   ]
  },
  {
   "cell_type": "code",
   "execution_count": 48,
   "metadata": {
    "collapsed": true
   },
   "outputs": [],
   "source": [
    "#plotting\n",
    "def plot(loss_list, predictions_series, batchX, batchY):\n",
    "    plt.subplot(2, 3, 1)\n",
    "    plt.cla()\n",
    "    plt.plot(loss_list)\n",
    "\n",
    "    for batch_series_idx in range(5):\n",
    "        one_hot_output_series = np.array(predictions_series)[:, batch_series_idx, :]\n",
    "        single_output_series = np.array([(1 if out[0] < 0.5 else 0) for out in one_hot_output_series])\n",
    "\n",
    "        plt.subplot(2, 3, batch_series_idx + 2)\n",
    "        plt.cla()\n",
    "        plt.axis([0, truncated_backprop_length, 0, 2])\n",
    "        left_offset = range(truncated_backprop_length)\n",
    "        plt.bar(left_offset, batchX[batch_series_idx, :], width=1, color=\"blue\")\n",
    "        plt.bar(left_offset, batchY[batch_series_idx, :] * 0.5, width=1, color=\"red\")\n",
    "        plt.bar(left_offset, single_output_series * 0.3, width=1, color=\"green\")\n",
    "\n",
    "    plt.draw()\n",
    "    plt.pause(0.0001)"
   ]
  },
  {
   "cell_type": "code",
   "execution_count": 53,
   "metadata": {
    "collapsed": false
   },
   "outputs": [
    {
     "name": "stdout",
     "output_type": "stream",
     "text": [
      "WARNING:tensorflow:From <ipython-input-53-08dfd0ad437e>:3: initialize_all_variables (from tensorflow.python.ops.variables) is deprecated and will be removed after 2017-03-02.\n",
      "Instructions for updating:\n",
      "Use `tf.global_variables_initializer` instead.\n"
     ]
    },
    {
     "data": {
      "text/plain": [
       "<matplotlib.figure.Figure at 0x122005c50>"
      ]
     },
     "metadata": {},
     "output_type": "display_data"
    },
    {
     "name": "stdout",
     "output_type": "stream",
     "text": [
      "New data, epoch 0\n",
      "Step 0 Loss 0.660515\n",
      "Step 100 Loss 0.00720117\n",
      "Step 200 Loss 0.00315828\n",
      "Step 300 Loss 0.00193661\n",
      "Step 400 Loss 0.00143539\n",
      "Step 500 Loss 0.00109406\n",
      "Step 600 Loss 0.000871311\n",
      "New data, epoch 1\n",
      "Step 0 Loss 0.000792551\n",
      "Step 100 Loss 0.000682478\n",
      "Step 200 Loss 0.000574304\n",
      "Step 300 Loss 0.00051131\n",
      "Step 400 Loss 0.000453817\n",
      "Step 500 Loss 0.000402836\n",
      "Step 600 Loss 0.000371535\n",
      "New data, epoch 2\n",
      "Step 0 Loss 0.000418491\n",
      "Step 100 Loss 0.000326497\n",
      "Step 200 Loss 0.000319878\n",
      "Step 300 Loss 0.00028802\n",
      "Step 400 Loss 0.00026933\n",
      "Step 500 Loss 0.00025643\n",
      "Step 600 Loss 0.00023569\n",
      "New data, epoch 3\n",
      "Step 0 Loss 0.000266859\n",
      "Step 100 Loss 0.00022855\n",
      "Step 200 Loss 0.000212208\n",
      "Step 300 Loss 0.000200954\n",
      "Step 400 Loss 0.000185237\n",
      "Step 500 Loss 0.000180242\n",
      "Step 600 Loss 0.000166691\n",
      "New data, epoch 4\n",
      "Step 0 Loss 0.000183706\n",
      "Step 100 Loss 0.00015967\n",
      "Step 200 Loss 0.00014887\n",
      "Step 300 Loss 0.000146466\n",
      "Step 400 Loss 0.000144921\n",
      "Step 500 Loss 0.000136258\n",
      "Step 600 Loss 0.000135967\n",
      "New data, epoch 5\n",
      "Step 0 Loss 0.000133746\n",
      "Step 100 Loss 0.000121809\n",
      "Step 200 Loss 0.000120712\n",
      "Step 300 Loss 0.000116376\n",
      "Step 400 Loss 0.000113633\n",
      "Step 500 Loss 0.000113713\n",
      "Step 600 Loss 0.000107731\n",
      "New data, epoch 6\n",
      "Step 0 Loss 0.00012129\n",
      "Step 100 Loss 0.000102707\n",
      "Step 200 Loss 0.000104768\n",
      "Step 300 Loss 9.70459e-05\n",
      "Step 400 Loss 9.65897e-05\n",
      "Step 500 Loss 9.49925e-05\n",
      "Step 600 Loss 9.11607e-05\n",
      "New data, epoch 7\n",
      "Step 0 Loss 0.000106111\n",
      "Step 100 Loss 8.94999e-05\n",
      "Step 200 Loss 8.67949e-05\n",
      "Step 300 Loss 8.31363e-05\n",
      "Step 400 Loss 8.07078e-05\n",
      "Step 500 Loss 8.0018e-05\n",
      "Step 600 Loss 7.83937e-05\n",
      "New data, epoch 8\n",
      "Step 0 Loss 8.69591e-05\n",
      "Step 100 Loss 7.69283e-05\n",
      "Step 200 Loss 7.52548e-05\n",
      "Step 300 Loss 7.29614e-05\n",
      "Step 400 Loss 7.16041e-05\n",
      "Step 500 Loss 7.02897e-05\n",
      "Step 600 Loss 6.90341e-05\n",
      "New data, epoch 9\n",
      "Step 0 Loss 7.43737e-05\n",
      "Step 100 Loss 6.73239e-05\n",
      "Step 200 Loss 6.53675e-05\n",
      "Step 300 Loss 6.4533e-05\n",
      "Step 400 Loss 6.25209e-05\n",
      "Step 500 Loss 6.31551e-05\n",
      "Step 600 Loss 6.15721e-05\n"
     ]
    },
    {
     "data": {
      "image/png": "[encoded data removed]",
      "text/plain": [
       "<matplotlib.figure.Figure at 0x120f4c8d0>"
      ]
     },
     "metadata": {},
     "output_type": "display_data"
    }
   ],
   "source": [
    "#training\n",
    "with tf.Session() as sess:\n",
    "    sess.run(tf.initialize_all_variables())\n",
    "    plt.ion()\n",
    "    plt.figure()\n",
    "    plt.show()\n",
    "    loss_list = []\n",
    "\n",
    "    for epoch_idx in range(num_epochs):\n",
    "        x,y = generateData()\n",
    "        _current_state = np.zeros((batch_size, state_size))\n",
    "\n",
    "        print(\"New data, epoch\", epoch_idx)\n",
    "\n",
    "        for batch_idx in range(num_batches):\n",
    "            start_idx = batch_idx * truncated_backprop_length\n",
    "            end_idx = start_idx + truncated_backprop_length\n",
    "\n",
    "            batchX = x[:,start_idx:end_idx]\n",
    "            batchY = y[:,start_idx:end_idx]\n",
    "\n",
    "            _total_loss, _train_step, _current_state, _predictions_series = sess.run(\n",
    "                [total_loss, train_step, current_state, predictions_series],\n",
    "                feed_dict={\n",
    "                    batch_x_pla:batchX,\n",
    "                    batch_y_pla:batchY,\n",
    "                    init_state:_current_state\n",
    "                })\n",
    "\n",
    "            loss_list.append(_total_loss)\n",
    "\n",
    "            if batch_idx%100 == 0:\n",
    "                print(\"Step\",batch_idx, \"Loss\", _total_loss)\n",
    "                plot(loss_list, _predictions_series, batchX, batchY)\n",
    "                \n",
    "#prediction\n",
    "plt.ioff()\n",
    "plt.show()"
   ]
  },
  {
   "cell_type": "code",
   "execution_count": null,
   "metadata": {
    "collapsed": true
   },
   "outputs": [],
   "source": []
  }
 ],
 "metadata": {
  "kernelspec": {
   "display_name": "Python 3",
   "language": "python",
   "name": "python3"
  },
  "language_info": {
   "codemirror_mode": {
    "name": "ipython",
    "version": 3
   },
   "file_extension": ".py",
   "mimetype": "text/x-python",
   "name": "python",
   "nbconvert_exporter": "python",
   "pygments_lexer": "ipython3",
   "version": "3.6.0"
  }
 },
 "nbformat": 4,
 "nbformat_minor": 2
}
